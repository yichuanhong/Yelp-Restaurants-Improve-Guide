{
 "cells": [
  {
   "cell_type": "code",
   "execution_count": 3,
   "id": "66afff3b",
   "metadata": {},
   "outputs": [],
   "source": [
    "import gensim, operator\n",
    "from scipy import spatial\n",
    "import numpy as np\n",
    "import pandas as pd\n",
    "from gensim.models import KeyedVectors\n",
    "import warnings\n",
    "warnings.filterwarnings(\"ignore\", category=DeprecationWarning)\n",
    "\n",
    "from sklearn.pipeline import Pipeline\n",
    "from sklearn.feature_extraction.text import TfidfVectorizer\n",
    "from sklearn.decomposition import LatentDirichletAllocation\n",
    "from nltk.stem.wordnet import WordNetLemmatizer"
   ]
  },
  {
   "cell_type": "code",
   "execution_count": 2,
   "id": "16522455",
   "metadata": {
    "scrolled": true
   },
   "outputs": [
    {
     "data": {
      "text/html": [
       "<div>\n",
       "<style scoped>\n",
       "    .dataframe tbody tr th:only-of-type {\n",
       "        vertical-align: middle;\n",
       "    }\n",
       "\n",
       "    .dataframe tbody tr th {\n",
       "        vertical-align: top;\n",
       "    }\n",
       "\n",
       "    .dataframe thead th {\n",
       "        text-align: right;\n",
       "    }\n",
       "</style>\n",
       "<table border=\"1\" class=\"dataframe\">\n",
       "  <thead>\n",
       "    <tr style=\"text-align: right;\">\n",
       "      <th></th>\n",
       "      <th>review_id</th>\n",
       "      <th>user_id</th>\n",
       "      <th>business_id</th>\n",
       "      <th>stars</th>\n",
       "      <th>useful</th>\n",
       "      <th>funny</th>\n",
       "      <th>cool</th>\n",
       "      <th>text</th>\n",
       "      <th>date</th>\n",
       "    </tr>\n",
       "  </thead>\n",
       "  <tbody>\n",
       "    <tr>\n",
       "      <th>0</th>\n",
       "      <td>J4a2TuhDasjn2k3wWtHZnQ</td>\n",
       "      <td>RNm_RWkcd02Li2mKPRe7Eg</td>\n",
       "      <td>xGXzsc-hzam-VArK6eTvtw</td>\n",
       "      <td>1.0</td>\n",
       "      <td>2</td>\n",
       "      <td>0</td>\n",
       "      <td>0</td>\n",
       "      <td>This place used to be a cool, chill place. Now...</td>\n",
       "      <td>2018-01-21 04:41:03</td>\n",
       "    </tr>\n",
       "    <tr>\n",
       "      <th>1</th>\n",
       "      <td>FdoBFTjXXMn4hVnJ59EtiQ</td>\n",
       "      <td>eLAYHxHUutiXswy-CfeiUw</td>\n",
       "      <td>WQFn1A7-UAA4JT5YWiop_w</td>\n",
       "      <td>1.0</td>\n",
       "      <td>0</td>\n",
       "      <td>0</td>\n",
       "      <td>0</td>\n",
       "      <td>They NEVER seem to get our \\norder correct, se...</td>\n",
       "      <td>2017-09-08 23:26:10</td>\n",
       "    </tr>\n",
       "    <tr>\n",
       "      <th>2</th>\n",
       "      <td>m1GlqFGIN5eayrbb2IbRZg</td>\n",
       "      <td>B7YSV6r1ePAXc69FkDDuZw</td>\n",
       "      <td>wZgUAuDuEGPEzKK-PsngKQ</td>\n",
       "      <td>1.0</td>\n",
       "      <td>0</td>\n",
       "      <td>0</td>\n",
       "      <td>0</td>\n",
       "      <td>I wish I could give them zero stars. The call ...</td>\n",
       "      <td>2014-06-27 22:06:55</td>\n",
       "    </tr>\n",
       "    <tr>\n",
       "      <th>3</th>\n",
       "      <td>ucFOnqgaV40oQ2YNyz5ddQ</td>\n",
       "      <td>JHXQEayrDHOWGexs0dCviA</td>\n",
       "      <td>KXCXaF5qimmtKKqnPc_LQA</td>\n",
       "      <td>1.0</td>\n",
       "      <td>0</td>\n",
       "      <td>0</td>\n",
       "      <td>0</td>\n",
       "      <td>Great coffee and pastries. Baristas are excell...</td>\n",
       "      <td>2018-03-03 23:45:25</td>\n",
       "    </tr>\n",
       "    <tr>\n",
       "      <th>4</th>\n",
       "      <td>-QpNdU_p44GR0NcRxDRyNQ</td>\n",
       "      <td>ffJp-ZN80M4sSkDL8Ra18w</td>\n",
       "      <td>WDGeeyeK7bG0cvq_ZglAdA</td>\n",
       "      <td>1.0</td>\n",
       "      <td>0</td>\n",
       "      <td>0</td>\n",
       "      <td>0</td>\n",
       "      <td>Almost desolate restaurant and dingy evironmen...</td>\n",
       "      <td>2009-03-01 01:05:50</td>\n",
       "    </tr>\n",
       "  </tbody>\n",
       "</table>\n",
       "</div>"
      ],
      "text/plain": [
       "                review_id                 user_id             business_id  \\\n",
       "0  J4a2TuhDasjn2k3wWtHZnQ  RNm_RWkcd02Li2mKPRe7Eg  xGXzsc-hzam-VArK6eTvtw   \n",
       "1  FdoBFTjXXMn4hVnJ59EtiQ  eLAYHxHUutiXswy-CfeiUw  WQFn1A7-UAA4JT5YWiop_w   \n",
       "2  m1GlqFGIN5eayrbb2IbRZg  B7YSV6r1ePAXc69FkDDuZw  wZgUAuDuEGPEzKK-PsngKQ   \n",
       "3  ucFOnqgaV40oQ2YNyz5ddQ  JHXQEayrDHOWGexs0dCviA  KXCXaF5qimmtKKqnPc_LQA   \n",
       "4  -QpNdU_p44GR0NcRxDRyNQ  ffJp-ZN80M4sSkDL8Ra18w  WDGeeyeK7bG0cvq_ZglAdA   \n",
       "\n",
       "   stars  useful  funny  cool  \\\n",
       "0    1.0       2      0     0   \n",
       "1    1.0       0      0     0   \n",
       "2    1.0       0      0     0   \n",
       "3    1.0       0      0     0   \n",
       "4    1.0       0      0     0   \n",
       "\n",
       "                                                text                 date  \n",
       "0  This place used to be a cool, chill place. Now...  2018-01-21 04:41:03  \n",
       "1  They NEVER seem to get our \\norder correct, se...  2017-09-08 23:26:10  \n",
       "2  I wish I could give them zero stars. The call ...  2014-06-27 22:06:55  \n",
       "3  Great coffee and pastries. Baristas are excell...  2018-03-03 23:45:25  \n",
       "4  Almost desolate restaurant and dingy evironmen...  2009-03-01 01:05:50  "
      ]
     },
     "execution_count": 2,
     "metadata": {},
     "output_type": "execute_result"
    }
   ],
   "source": [
    "df = pd.read_csv('yelp.csv')\n",
    "df.head()"
   ]
  },
  {
   "cell_type": "code",
   "execution_count": 4,
   "id": "2ae3e4cc",
   "metadata": {},
   "outputs": [
    {
     "name": "stdout",
     "output_type": "stream",
     "text": [
      "Loading Word2Vec model...\n",
      "Finished loading Word2Vec model...\n"
     ]
    }
   ],
   "source": [
    "model_path = ''\n",
    "\n",
    "def load_wordvec_model(modelName, modelFile, flagBin):\n",
    "    print('Loading ' + modelName + ' model...')\n",
    "    model = KeyedVectors.load_word2vec_format(model_path + modelFile, binary=flagBin)\n",
    "    print('Finished loading ' + modelName + ' model...')\n",
    "    return model\n",
    "\n",
    "model_word2vec = load_wordvec_model('Word2Vec', 'GoogleNews-vectors-negative300.bin', True)"
   ]
  },
  {
   "cell_type": "code",
   "execution_count": 6,
   "id": "2e4889b9",
   "metadata": {},
   "outputs": [],
   "source": [
    "# we want to eliminate the restaurant that has reviews less than 20.\n",
    "counts=df['business_id'].value_counts()\n",
    "df20 = df[df['business_id'].isin(counts[counts > 20].index)]\n",
    "# first business - The Burren \n",
    "business1 = df20['business_id'].unique()[0]\n",
    "# all customer reviews of The Burren\n",
    "review_1 = df20[df20['business_id']==business1]['text'].tolist()df20['business_id'].value_counts()"
   ]
  },
  {
   "cell_type": "code",
   "execution_count": 44,
   "id": "a2fee28d",
   "metadata": {},
   "outputs": [
    {
     "data": {
      "text/plain": [
       "2.951219512195122"
      ]
     },
     "execution_count": 44,
     "metadata": {},
     "output_type": "execute_result"
    }
   ],
   "source": [
    "# average rating of The Burren\n",
    "score_1 = df20[df20['business_id']==business1]['stars']\n",
    "score_1.mean()"
   ]
  },
  {
   "cell_type": "code",
   "execution_count": 7,
   "id": "504eda83",
   "metadata": {},
   "outputs": [],
   "source": [
    "from nltk.tokenize import sent_tokenize\n",
    "sentences = []\n",
    "for s in review_1:\n",
    "    sentences.append(sent_tokenize(s))\n",
    "    \n",
    "sentences = [y for x in sentences for y in x]\n",
    "text = \" \".join(sentences)"
   ]
  },
  {
   "cell_type": "code",
   "execution_count": 63,
   "id": "694cc390",
   "metadata": {},
   "outputs": [],
   "source": [
    "topic_taxonomy = {\n",
    "    \"service customer customers experience\":\n",
    "    {\n",
    "        \"Good Service Feedback\": \"great help good surprise love excellent nice amazing\",\n",
    "        \"Bad Service Feedback\": \"bad worst rude wait time minutes wait walk line disappoint horrible suck terrible attitude slow rush\",\n",
    "        \"Subjective Service Feedback\": \"leave think\" \n",
    "    },\n",
    "    \"food meal\":\n",
    "    {\n",
    "        \"Good Taste\": \"tasty good nice delicious yummy\",\n",
    "        \"Bad Taste\": \"bland bad worst disgust dry flavour less flavourless disappoint horrible suck terrible\",\n",
    "        \"Food Category\": \"fast food dessert breakfast thai vegan asian healthy salad mexican chinese italian korean japanese\",\n",
    "        \"Food Item\": \"chicken meal rice salad burger meat drink bread sandwiches pizza cheese coffee sauce cream breakfast cake wing tea seafood sushi beer\",\n",
    "        \"Cooking Methods\": \"fry pan boil saute cook steam bake\",\n",
    "    },\n",
    "     \"category restaurant auto service beauty store health business\":\n",
    "    {\n",
    "        \"Business Type\": \"restaurant bar store spa pharmacy salon financial hotel education pets entertainment medical shopping home service rental\",\n",
    "        \"Buiness Service Category\": \"nail polish wash hair snacks tea drink food car gas repair book art movie fitness baby flower alcohol\",\n",
    "\n",
    "    },\n",
    "     \"price pay payment charge money tip check fee recipt\":\n",
    "    {\n",
    "        \"Payment Type\": \"credit card cash\",\n",
    "        \"Pricy\": \"overprice expensive over priced $\",\n",
    "        \"Resonable Price\": \"cheap worth\",\n",
    "        \"Deal\": \"groupon discount\"\n",
    "    },\n",
    "     \"infrastructure location room table wall bed bathroom area seat park delivery\":\n",
    "    {\n",
    "        \"Infrastructure Good Feedback\": \"clean\",\n",
    "        \"Infrastructure Bad Feedback\": \"disgust dirty crowd crowdy smell filthy\",\n",
    "        \"Location Neighborhood\": \"airport\"\n",
    "    }\n",
    "}"
   ]
  },
  {
   "cell_type": "code",
   "execution_count": 11,
   "id": "e6df315c",
   "metadata": {},
   "outputs": [],
   "source": [
    "def vec_similarity(input1, input2, vectors):\n",
    "    term_vectors = [np.zeros(300), np.zeros(300)]\n",
    "    terms = [input1, input2]\n",
    "        \n",
    "    for index, term in enumerate(terms):\n",
    "        for i, t in enumerate(term.split(' ')):\n",
    "            try:\n",
    "                term_vectors[index] += vectors[t]\n",
    "            except:\n",
    "                term_vectors[index] += 0\n",
    "        \n",
    "    result = (1 - spatial.distance.cosine(term_vectors[0], term_vectors[1]))\n",
    "    if result == 'nan':\n",
    "        result = 0\n",
    "        \n",
    "    return result"
   ]
  },
  {
   "cell_type": "code",
   "execution_count": 34,
   "id": "9f5fc9a1",
   "metadata": {},
   "outputs": [],
   "source": [
    "# function checks whether the input words are present in the vocabulary for the model\n",
    "def vocab_check(vectors, words):\n",
    "    \n",
    "    output = list()\n",
    "    for word in words:\n",
    "        if word in vectors.key_to_index:\n",
    "            output.append(word.strip())\n",
    "            \n",
    "    return output"
   ]
  },
  {
   "cell_type": "code",
   "execution_count": 13,
   "id": "91f5385e",
   "metadata": {},
   "outputs": [],
   "source": [
    "# function calculates similarity between two strings using a particular word vector model\n",
    "def calc_similarity(input1, input2, vectors):\n",
    "    s1words = set(vocab_check(vectors, input1.split()))\n",
    "    s2words = set(vocab_check(vectors, input2.split()))\n",
    "    \n",
    "    output = vectors.n_similarity(s1words, s2words)\n",
    "    return output"
   ]
  },
  {
   "cell_type": "code",
   "execution_count": 41,
   "id": "237afa80",
   "metadata": {},
   "outputs": [],
   "source": [
    "#function takes an input string, runs similarity for each item in topic_taxonomy, sorts and returns top 10 results\n",
    "def classify_topics(input, vectors):\n",
    "    feed_score = dict()\n",
    "    for key, value in topic_taxonomy.items():\n",
    "        max_value_score = dict()\n",
    "        for label, keywords in value.items():\n",
    "            max_value_score[label] = 0\n",
    "            topic = (key + ' ' + keywords).strip()\n",
    "            max_value_score[label] += float(calc_similarity(input, topic, vectors))\n",
    "            \n",
    "        sorted_max_score = sorted(max_value_score.items(), key=operator.itemgetter(1), reverse=True)[0]\n",
    "        feed_score[sorted_max_score[0]] = sorted_max_score[1]\n",
    "    return sorted(feed_score.items(), key=operator.itemgetter(1), reverse=True)[:5]"
   ]
  },
  {
   "cell_type": "code",
   "execution_count": 55,
   "id": "87aaef1f",
   "metadata": {
    "scrolled": false
   },
   "outputs": [
    {
     "name": "stdout",
     "output_type": "stream",
     "text": [
      "[('Bad Service Feedback', 0.7216174602508545), ('Bad Taste', 0.6662274599075317), ('Buiness Service Category', 0.6246830224990845), ('Infrastructure Bad Feedback', 0.5886725187301636), ('Price', 0.46098247170448303)]\n"
     ]
    }
   ],
   "source": [
    "# classify topics within all customer review of The Burren\n",
    "output1 = classify_topics(text, model_word2vec)\n",
    "print(output1)"
   ]
  },
  {
   "cell_type": "code",
   "execution_count": 64,
   "id": "418ddb8c",
   "metadata": {},
   "outputs": [
    {
     "name": "stdout",
     "output_type": "stream",
     "text": [
      "[('Bad Service Feedback', 0.6423662304878235), ('Bad Taste', 0.5662879347801208), ('Infrastructure Bad Feedback', 0.5158231854438782), ('Buiness Service Category', 0.5130825042724609), ('Pricy', 0.4023929536342621)]\n"
     ]
    }
   ],
   "source": [
    "# use one sample customer review from The Burren to test the model\n",
    "output2 = classify_topics('There are so many better places in davis square where they are glad you are visiting \\\n",
    "                            their business. Sad that the burren is now the worst place in davis. \\\n",
    "                            So what exactly does the Burren think it is? $6 for a pint of Guiness at a dingy Irish bar in Davis Sq? \\\n",
    "                            Outrageous, its not Fanueil Hall! Went with a few friends, got fish and chips. \\\n",
    "                            Over priced for dry, flavor less fish and chips', model_word2vec)\n",
    "print(output2)"
   ]
  },
  {
   "cell_type": "code",
   "execution_count": null,
   "id": "fc369417",
   "metadata": {},
   "outputs": [],
   "source": []
  }
 ],
 "metadata": {
  "kernelspec": {
   "display_name": "Python 3 (ipykernel)",
   "language": "python",
   "name": "python3"
  },
  "language_info": {
   "codemirror_mode": {
    "name": "ipython",
    "version": 3
   },
   "file_extension": ".py",
   "mimetype": "text/x-python",
   "name": "python",
   "nbconvert_exporter": "python",
   "pygments_lexer": "ipython3",
   "version": "3.7.4"
  }
 },
 "nbformat": 4,
 "nbformat_minor": 5
}
