{
 "cells": [
  {
   "cell_type": "code",
   "execution_count": 1,
   "metadata": {},
   "outputs": [],
   "source": [
    "# import packages\n",
    "import json, re, nltk\n",
    "import numpy as np\n",
    "import pandas as pd\n",
    "\n",
    "import warnings\n",
    "warnings.filterwarnings(\"ignore\", category=DeprecationWarning)\n",
    "\n",
    "from sklearn.pipeline import Pipeline\n",
    "from sklearn.feature_extraction.text import TfidfVectorizer\n",
    "from sklearn.decomposition import LatentDirichletAllocation\n",
    "from nltk.stem.wordnet import WordNetLemmatizer\n",
    "\n",
    "from sumy.parsers.plaintext import PlaintextParser\n",
    "from sumy.parsers.html import HtmlParser\n",
    "from sumy.nlp.tokenizers import Tokenizer\n",
    "from sumy.summarizers.lex_rank import LexRankSummarizer\n",
    "from sumy.summarizers.text_rank import TextRankSummarizer\n",
    "from sumy.summarizers.lsa import LsaSummarizer\n",
    "\n",
    "from collections import OrderedDict\n",
    "import numpy as np\n",
    "import spacy\n",
    "from spacy.lang.en.stop_words import STOP_WORDS"
   ]
  },
  {
   "cell_type": "code",
   "execution_count": 2,
   "metadata": {},
   "outputs": [],
   "source": [
    "df = pd.read_csv('yelp.csv')"
   ]
  },
  {
   "cell_type": "code",
   "execution_count": 3,
   "metadata": {},
   "outputs": [
    {
     "data": {
      "text/plain": [
       "bZiIIUcpgxh8mpKMDhdqbA    232\n",
       "oz882XuZCxajKo64Opgq_Q    188\n",
       "H_RM2u1WWGU1HkKZrYq2Ow    187\n",
       "jREzLrIEkc4jQKLfYMJ0gg    130\n",
       "VPqWLp9kMiZEbctCebIZUA    115\n",
       "                         ... \n",
       "lK0_P52uDUcMarPkhuIqog      1\n",
       "4OfisvEJwSj8srvFhfKg2w      1\n",
       "VpPu3bIsz9zTU5wUlfDfAA      1\n",
       "MC6sg7z7pAUrJ3mWPCO4Jg      1\n",
       "EDnrlLOt72MRuMaUEc9iBA      1\n",
       "Name: business_id, Length: 8086, dtype: int64"
      ]
     },
     "execution_count": 3,
     "metadata": {},
     "output_type": "execute_result"
    }
   ],
   "source": [
    "df['business_id'].unique()\n",
    "counts=df['business_id'].value_counts()\n",
    "counts"
   ]
  },
  {
   "cell_type": "code",
   "execution_count": 4,
   "metadata": {},
   "outputs": [
    {
     "name": "stdout",
     "output_type": "stream",
     "text": [
      "There are  343 restaurants left.\n"
     ]
    }
   ],
   "source": [
    "# we want to eliminate the restaurant that has reviews less than 20.\n",
    "df20 = df[df['business_id'].isin(counts[counts > 20].index)]\n",
    "df20\n",
    "\n",
    "df20['business_id'].value_counts()\n",
    "print(\"There are \", len(df20['business_id'].value_counts()) , \"restaurants left.\")"
   ]
  },
  {
   "cell_type": "code",
   "execution_count": 5,
   "metadata": {},
   "outputs": [
    {
     "data": {
      "text/html": [
       "<div>\n",
       "<style scoped>\n",
       "    .dataframe tbody tr th:only-of-type {\n",
       "        vertical-align: middle;\n",
       "    }\n",
       "\n",
       "    .dataframe tbody tr th {\n",
       "        vertical-align: top;\n",
       "    }\n",
       "\n",
       "    .dataframe thead th {\n",
       "        text-align: right;\n",
       "    }\n",
       "</style>\n",
       "<table border=\"1\" class=\"dataframe\">\n",
       "  <thead>\n",
       "    <tr style=\"text-align: right;\">\n",
       "      <th></th>\n",
       "      <th>id</th>\n",
       "      <th>summary_sentence</th>\n",
       "      <th>key_words</th>\n",
       "    </tr>\n",
       "  </thead>\n",
       "  <tbody>\n",
       "  </tbody>\n",
       "</table>\n",
       "</div>"
      ],
      "text/plain": [
       "Empty DataFrame\n",
       "Columns: [id, summary_sentence, key_words]\n",
       "Index: []"
      ]
     },
     "execution_count": 5,
     "metadata": {},
     "output_type": "execute_result"
    }
   ],
   "source": [
    "result_list = {'id':[], \n",
    "        'summary_sentence':[], \n",
    "        'key_words':[]\n",
    "              } \n",
    "df_result_list = pd.DataFrame(result_list) \n",
    "df_result_list"
   ]
  },
  {
   "cell_type": "code",
   "execution_count": null,
   "metadata": {},
   "outputs": [],
   "source": [
    "for i in range(len(df20['business_id'].unique())) :\n",
    "        business1 = df20['business_id'].unique()[i]\n",
    "        value1 = business1\n",
    "        df_result_list.loc[i,\"id\"]=value1\n",
    "\n",
    "\n",
    "        review_1 = df20[df20['business_id']==business1]['text'].tolist()\n",
    "        #tokenize to single sentences\n",
    "        from nltk.tokenize import sent_tokenize\n",
    "        sentences = []\n",
    "        for s in review_1:\n",
    "            sentences.append(sent_tokenize(s))\n",
    "\n",
    "        sentences = [y for x in sentences for y in x]\n",
    "\n",
    "        text = \" \".join(sentences)\n",
    "\n",
    "        #Summary\n",
    "        NUM_SENTS = 10\n",
    "        summary = str()\n",
    "        text= text\n",
    "\n",
    "        parser = PlaintextParser.from_string(text, Tokenizer(\"english\"))\n",
    "        summarizer = LexRankSummarizer()\n",
    "\n",
    "        sentences = summarizer(parser.document, NUM_SENTS)  # Summarize the document with 5 sentences\n",
    "        for sentence in sentences:\n",
    "            summary += (sentence.__unicode__())\n",
    "\n",
    "        \n",
    "        df_result_list.loc[i,\"summary_sentence\"]=summary\n",
    "\n",
    "        # Criteria (To see if our summary is correct)\n",
    "        score_1 = df20[df20['business_id']==business1]['stars']\n",
    "        score_1.mean()\n",
    "\n",
    "        nlp = spacy.load('en_core_web_sm')\n",
    "        doc = nlp(summary)\n",
    "\n",
    "        lower = False\n",
    "        candidate_pos = ['NOUN', 'ADJ', 'ADV','CONJ']\n",
    "        sentences = []\n",
    "\n",
    "        for sent in doc.sents:\n",
    "            selected_words = []\n",
    "            for token in sent:\n",
    "                # Store words only with cadidate POS tag\n",
    "                if token.pos_ in candidate_pos and token.is_stop is False:\n",
    "                    if lower is True:\n",
    "                        selected_words.append(token.text.lower())\n",
    "                    else:\n",
    "                        selected_words.append(token.text)\n",
    "            sentences.append(selected_words)\n",
    "\n",
    "        vocab = OrderedDict()\n",
    "        k = 0\n",
    "        for sentence in sentences:\n",
    "            for word in sentence:\n",
    "                if word not in vocab:\n",
    "                    vocab[word] = k\n",
    "                    k += 1\n",
    "\n",
    "        window_size = 8\n",
    "\n",
    "        token_pairs = list()\n",
    "        for sentence in sentences:\n",
    "            for w, word in enumerate(sentence):\n",
    "                for z in range(w + 1, w + window_size):\n",
    "                    if z >= len(sentence): \n",
    "                        break\n",
    "                    pair = (word, sentence[z])\n",
    "                    if pair not in token_pairs:\n",
    "                        token_pairs.append(pair)\n",
    "\n",
    "        vocab_size = len(vocab)\n",
    "        g = np.zeros((vocab_size, vocab_size), dtype='float')\n",
    "        for word1, word2 in token_pairs:\n",
    "            f,v = vocab[word1], vocab[word2]\n",
    "            g[f][v] = 1\n",
    "\n",
    "        # Get Symmeric matrix\n",
    "        g = g + g.T - np.diag(g.diagonal())\n",
    "\n",
    "        # Normalize matrix by column\n",
    "        norm = np.sum(g, axis=0)\n",
    "        g_norm = np.divide(g, norm, where=norm!=0) # this is ignore the 0 element in norm\n",
    "\n",
    "        d = 0.85 # damping coefficient, usually is .85\n",
    "        threshold = 1e-5 # convergence threshold\n",
    "        steps = 10 # iteration steps\n",
    "        node_weight = None # save keywords and its weight\n",
    "\n",
    "        # Initialization for weight(pagerank value)\n",
    "        pr = np.array([1] * len(vocab))\n",
    "\n",
    "        # Iteration\n",
    "        previous_pr = 0\n",
    "        for epoch in range(steps):\n",
    "            pr = (1 - d) + d * np.dot(g_norm, pr)\n",
    "            if abs(previous_pr - sum(pr))  < threshold:\n",
    "                break\n",
    "            else:\n",
    "                previous_pr = sum(pr)\n",
    "\n",
    "        NUM_KEYWORDS = 10\n",
    "\n",
    "        # Get weight for each node\n",
    "        node_weight = dict()\n",
    "        for word, index in vocab.items():\n",
    "            node_weight[word] = pr[index]\n",
    "\n",
    "        node_weight = OrderedDict(sorted(node_weight.items(), key=lambda t: t[1], reverse=True))\n",
    "        key_dics = str()\n",
    "        for j, (key, value) in enumerate(node_weight.items()):\n",
    "            value = round(value,1)\n",
    "            key_dics = key_dics + key + ' - ' + str(value)\n",
    "            if j > NUM_KEYWORDS:\n",
    "                break   \n",
    "\n",
    "        df_result_list.loc[i,\"key_words\"]=key_dics\n",
    "        \n",
    "print(\"finished\")"
   ]
  },
  {
   "cell_type": "code",
   "execution_count": null,
   "metadata": {},
   "outputs": [],
   "source": [
    "df_result_list"
   ]
  },
  {
   "cell_type": "code",
   "execution_count": null,
   "metadata": {},
   "outputs": [],
   "source": [
    "df_result_list.to_csv('yelp_result.csv')"
   ]
  },
  {
   "cell_type": "code",
   "execution_count": null,
   "metadata": {},
   "outputs": [],
   "source": []
  }
 ],
 "metadata": {
  "kernelspec": {
   "display_name": "Python 3",
   "language": "python",
   "name": "python3"
  },
  "language_info": {
   "codemirror_mode": {
    "name": "ipython",
    "version": 3
   },
   "file_extension": ".py",
   "mimetype": "text/x-python",
   "name": "python",
   "nbconvert_exporter": "python",
   "pygments_lexer": "ipython3",
   "version": "3.8.5"
  }
 },
 "nbformat": 4,
 "nbformat_minor": 5
}
